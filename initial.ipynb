{
 "cells": [
  {
   "cell_type": "code",
   "execution_count": null,
   "metadata": {
    "collapsed": true
   },
   "outputs": [],
   "source": [
    "%load_ext autoreload\n",
    "%autoreload 2"
   ]
  },
  {
   "cell_type": "code",
   "execution_count": 2,
   "metadata": {},
   "outputs": [
    {
     "name": "stdout",
     "output_type": "stream",
     "text": [
      "['train_empty_img_id.npy', 'sample_submission.csv', 'val_empty_img_id.npy', 'train_ship_segmentations.csv', 'train_non_empty_img_id.npy', 'test_ship_segmentations_bbox.csv', 'train', 'train_ship_segmentations_bbox.csv', 'test_ship_segmentations.csv', 'val_non_empty_img_id.npy']\n"
     ]
    }
   ],
   "source": [
    "import numpy as np \n",
    "import pandas as pd \n",
    "from skimage.data import imread\n",
    "import matplotlib.pyplot as plt\n",
    "import cv2\n",
    "from rbox.data_utils import *\n",
    "import os\n",
    "print(os.listdir(\"input\"))"
   ]
  },
  {
   "cell_type": "code",
   "execution_count": null,
   "metadata": {
    "collapsed": true
   },
   "outputs": [],
   "source": [
    "train = os.listdir('input/train')\n",
    "print(len(train))\n",
    "\n",
    "test = os.listdir('input/test')\n",
    "print(len(test))"
   ]
  },
  {
   "cell_type": "code",
   "execution_count": null,
   "metadata": {
    "collapsed": true
   },
   "outputs": [],
   "source": [
    "submission = pd.read_csv('input/sample_submission.csv')\n",
    "submission.head()"
   ]
  },
  {
   "cell_type": "code",
   "execution_count": null,
   "metadata": {
    "collapsed": true
   },
   "outputs": [],
   "source": [
    "masks = pd.read_csv('input/train_ship_segmentations_bbox.csv')\n",
    "masks.head(100)"
   ]
  },
  {
   "cell_type": "code",
   "execution_count": null,
   "metadata": {
    "collapsed": true
   },
   "outputs": [],
   "source": [
    "from collections import defaultdict\n",
    "imgsz = defaultdict(list)\n",
    "bad_img = []\n",
    "for ImageId in masks['ImageId'].tolist():\n",
    "    try:\n",
    "        img = imread('input/train/' + ImageId)\n",
    "    except:\n",
    "        bad_img.append(ImageId)\n",
    "        continue\n",
    "    imgsz[img.shape[0]].append(ImageId)\n",
    "    "
   ]
  },
  {
   "cell_type": "code",
   "execution_count": null,
   "metadata": {
    "collapsed": true
   },
   "outputs": [],
   "source": [
    "from collections import defaultdict\n",
    "import traceback\n",
    "imgsz_test = defaultdict(list)\n",
    "bad_img_test = []\n",
    "for ImageId in masks['ImageId'].tolist():\n",
    "    try:\n",
    "        img = imread('input/test/' + ImageId)\n",
    "    except:\n",
    "        bad_img_test.append(ImageId)\n",
    "        print traceback.format_exc()\n",
    "        continue\n",
    "    imgsz_test[img.shape[0]].append(ImageId)"
   ]
  },
  {
   "cell_type": "code",
   "execution_count": null,
   "metadata": {
    "collapsed": true
   },
   "outputs": [],
   "source": [
    "ImageId = '002fdcf51.jpg'\n",
    "\n",
    "img = imread('input/train/' + ImageId)\n",
    "img_masks = masks.loc[masks['ImageId'] == ImageId, 'EncodedPixels'].tolist()\n",
    "\n",
    "# Take the individual ship masks and create a single mask array for all ships\n",
    "all_masks = full_rle_decode([img_masks[1]], (768, 768))\n",
    "\n",
    "fig, axarr = plt.subplots(1, 3, figsize=(15, 40))\n",
    "axarr[0].axis('off')\n",
    "axarr[1].axis('off')\n",
    "axarr[2].axis('off')\n",
    "axarr[0].imshow(img)\n",
    "axarr[1].imshow(all_masks)\n",
    "axarr[2].imshow(img)\n",
    "axarr[2].imshow(all_masks, alpha=0.4)\n",
    "plt.tight_layout(h_pad=0.1, w_pad=0.1)\n",
    "plt.show()"
   ]
  },
  {
   "cell_type": "code",
   "execution_count": null,
   "metadata": {
    "collapsed": true
   },
   "outputs": [],
   "source": [
    "all_masks_img = all_masks\n",
    "all_masks_img = all_masks_img.astype(np.uint8)\n",
    "\n",
    "x,y,w,h = cv2.boundingRect(all_masks_img)\n",
    "rect1 = cv2.rectangle(img.copy(),(x,y),(x+w,y+h),(0,255,0),2)\n",
    "\n",
    "_,contours,_ = cv2.findContours(all_masks_img, 1, 1)\n",
    "rect = cv2.minAreaRect(contours[0])\n",
    "(x,y),(w,h), a = rect\n",
    "box = cv2.boxPoints(rect)\n",
    "box = np.int0(box)\n",
    "rect2 = cv2.drawContours(img.copy(),[box],0,(0,0,255),2)\n",
    "'''\n",
    "rows,cols = all_masks_img.shape\n",
    "M = cv2.getRotationMatrix2D((x,y),(180 + a)%180,1)\n",
    "dst = cv2.warpAffine(all_masks_img, M, (rows,cols))\n",
    "#x,y,w,h = cv2.boundingRect(dst)\n",
    "#rect3 = cv2.rectangle(rect2.copy(),(x,y),(x+w,y+h),(0,255,0),2)\n",
    "\n",
    "_,contours,_ = cv2.findContours(dst, 1, 1)\n",
    "rect = cv2.minAreaRect(contours[0])\n",
    "box = cv2.boxPoints(rect)\n",
    "box = np.int0(box)\n",
    "rect3 = cv2.drawContours(rect2.copy(),[box],0,(0,0,255),2)\n",
    "''' \n",
    "#x,y,w,h = np.int0([x,y,w,h])\n",
    "#rect3 = cv2.rectangle(rect2.copy(),(x-w/2,y-h/2),(x+w/2,y+h/2),(0,255,0),2)\n",
    "\n",
    "x,y,w,h = cv2.boundingRect(all_masks_img)\n",
    "rect3 = cv2.rectangle(rect2.copy(),(x,y),(x+w,y+h),(0,255,0),2)\n",
    "\n",
    "\n",
    "fig, axarr = plt.subplots(1, 3, figsize=(15, 40))\n",
    "axarr[0].axis('off')\n",
    "axarr[1].axis('off')\n",
    "axarr[2].axis('off')\n",
    "axarr[0].imshow(img)\n",
    "axarr[1].imshow(rect2)\n",
    "axarr[2].imshow(rect3)\n",
    "plt.tight_layout(h_pad=0.1, w_pad=0.1)\n",
    "plt.show()"
   ]
  },
  {
   "cell_type": "code",
   "execution_count": null,
   "metadata": {
    "collapsed": true
   },
   "outputs": [],
   "source": [
    "ImageId = 'ccc5df19d.jpg'\n",
    "\n",
    "img = imread('input/train/' + ImageId)\n",
    "img_masks = masks.loc[masks['ImageId'] == ImageId, 'EncodedPixels'].tolist()\n",
    "\n",
    "ImageId_ne = 'fff67c31a.jpg'\n",
    "\n",
    "img_ne = imread('input/train/' + ImageId_ne)\n",
    "img_masks_ne = masks.loc[masks['ImageId'] == ImageId_ne, 'EncodedPixels'].tolist()\n",
    "\n",
    "# Take the individual ship masks and create a single mask array for all ships\n",
    "all_masks = full_rle_decode(img_masks_ne, (768, 768))\n",
    "\n",
    "for i in range(768):\n",
    "    for j in range(768):\n",
    "        if all_masks[i,j] == 1:\n",
    "            img[i, j] = img_ne[i, j]\n",
    "\n",
    "fig, axarr = plt.subplots(1, 3, figsize=(15, 40))\n",
    "axarr[0].axis('off')\n",
    "axarr[1].axis('off')\n",
    "axarr[2].axis('off')\n",
    "axarr[0].imshow(img)\n",
    "axarr[1].imshow(all_masks)\n",
    "axarr[2].imshow(img_ne)\n",
    "#axarr[2].imshow(img_masks_ne, alpha=0.4)\n",
    "plt.tight_layout(h_pad=0.1, w_pad=0.1)\n",
    "plt.show()"
   ]
  }
 ],
 "metadata": {
  "kernelspec": {
   "display_name": "Python 2",
   "language": "python",
   "name": "python2"
  },
  "language_info": {
   "codemirror_mode": {
    "name": "ipython",
    "version": 2
   },
   "file_extension": ".py",
   "mimetype": "text/x-python",
   "name": "python",
   "nbconvert_exporter": "python",
   "pygments_lexer": "ipython2",
   "version": "2.7.14"
  }
 },
 "nbformat": 4,
 "nbformat_minor": 2
}
